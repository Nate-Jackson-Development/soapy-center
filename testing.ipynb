{
 "cells": [
  {
   "cell_type": "code",
   "execution_count": 78,
   "metadata": {},
   "outputs": [],
   "source": [
    "# imports\n",
    "from bs4 import BeautifulSoup\n",
    "from bs4.element import ResultSet\n",
    "import requests\n",
    "import json\n",
    "import re"
   ]
  },
  {
   "cell_type": "code",
   "execution_count": 79,
   "metadata": {},
   "outputs": [],
   "source": [
    "session = requests.Session()\n",
    "# Handles Cookies for logging in and persistance\n",
    "\n",
    "url = \"https://homeaccess.beth.k12.pa.us/HomeAccess/Account/LogOn/index.html\"\n",
    "# URL for going to the site\n",
    "\n",
    "r = session.get(url)\n",
    "# setting the website url to 'r'\n",
    "\n",
    "soup = BeautifulSoup(r.text, features=\"html.parser\")\n",
    "# extracting the raw website data into 'soup'\n",
    "\n",
    "VerificationToken = soup.find(\"input\", {\"name\":\"__RequestVerificationToken\"}).get(\"value\")\n",
    "# Retarted Verification Token added for no good reason\n",
    "\n",
    "payload = {\n",
    "    \"__RequestVerificationToken\" : VerificationToken,\n",
    "    \"ReturnUrl\" : \"/HomeAccess/Classes/Classwork\",\n",
    "    \"SCKTY00328510CustomEnabled\" : False,\n",
    "    \"Database\" : 10,\n",
    "    \"LogOnDetails.UserName\" : \"mooren\",\n",
    "    \"LogOnDetails.Password\" : \"AlphaBeta4721\",\n",
    "}\n",
    "# Payload Information to send for login\n",
    "\n",
    "GradeLogin = session.post(url = \"https://homeaccess.beth.k12.pa.us/HomeAccess/Account/LogOn/index.html\", data = payload)\n",
    "# Sending to Payload to the website for login\n",
    "\n",
    "soup = BeautifulSoup(GradeLogin.text, features=\"html.parser\")\n",
    "# Parsing the response from the payload\n",
    "\n",
    "assignments = soup.find(\"iframe\")\n",
    "# Finding the Location of the Grades\n",
    "\n",
    "link_get_source = \"https://homeaccess.beth.k12.pa.us\" + assignments.get(\"src\")\n",
    "# Generates Link for the Extraction\n",
    "\n",
    "GradesLocation = session.post(url = link_get_source, data = payload)"
   ]
  },
  {
   "cell_type": "code",
   "execution_count": 84,
   "metadata": {},
   "outputs": [],
   "source": [
    "souped = BeautifulSoup(GradesLocation.text, features=\"html.parser\")\n",
    "# print(GradesLocation.text)\n",
    "hiddenInputs = souped.select(\"form#fmMain > input\")\n",
    "# print(hiddenInputs)\n",
    "payload = {x[\"id\"]:x[\"value\"] for x in hiddenInputs}\n",
    "hiddenInputs = souped.select(\"form#fmMain > div > input\")\n",
    "payload.update({x[\"id\"]:x[\"value\"] for x in hiddenInputs})\n",
    "payload[\"__EVENTTARGET\"] = \"ctl00$plnMain$btnRefreshView\"\n",
    "# print(payload)"
   ]
  },
  {
   "cell_type": "code",
   "execution_count": 81,
   "metadata": {},
   "outputs": [],
   "source": [
    "payload[\"ctl00$plnMain$ddlReportCardRuns\"] = \"2-2023\"\n",
    "newLoc = session.post(url = link_get_source, data = payload)"
   ]
  },
  {
   "cell_type": "code",
   "execution_count": 82,
   "metadata": {},
   "outputs": [],
   "source": [
    "soop = BeautifulSoup(newLoc.text, features=\"html.parser\")\n",
    "\n",
    "classes = soop.find_all(\"a\", {\"class\":\"sg-header-heading\"})\n",
    "\n",
    "averages = list()\n",
    "count = 0\n",
    "for i in enumerate(classes):\n",
    "    x = soop.find(\"span\", {\"id\":f'plnMain_rptAssigmnetsByCourse_lblOverallAverage_{i[0]}'})\n",
    "    averages.append(x)"
   ]
  },
  {
   "cell_type": "code",
   "execution_count": 83,
   "metadata": {},
   "outputs": [
    {
     "name": "stdout",
     "output_type": "stream",
     "text": [
      "[None, None, <span id=\"plnMain_rptAssigmnetsByCourse_lblOverallAverage_2\">78.67</span>, None]\n"
     ]
    }
   ],
   "source": [
    "print(averages)"
   ]
  }
 ],
 "metadata": {
  "kernelspec": {
   "display_name": "Python 3.10.7 64-bit",
   "language": "python",
   "name": "python3"
  },
  "language_info": {
   "codemirror_mode": {
    "name": "ipython",
    "version": 3
   },
   "file_extension": ".py",
   "mimetype": "text/x-python",
   "name": "python",
   "nbconvert_exporter": "python",
   "pygments_lexer": "ipython3",
   "version": "3.10.7"
  },
  "orig_nbformat": 4,
  "vscode": {
   "interpreter": {
    "hash": "3dfdd908862ae5b36f0c6abbc0787ca7805ac4c92c8d851820304f50ed910577"
   }
  }
 },
 "nbformat": 4,
 "nbformat_minor": 2
}
